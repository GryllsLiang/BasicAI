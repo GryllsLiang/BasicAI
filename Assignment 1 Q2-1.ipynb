{
 "cells": [
  {
   "cell_type": "markdown",
   "metadata": {
    "id": "yZOz6Y_cLGOT"
   },
   "source": [
    "# Question 2\n",
    "\n",
    "## Introduction to question 2\n",
    "\n",
    "In the second question of this assignment, we will explore the use of local search in genome assembly.\n",
    "\n",
    "We will use local search to assemble (construct) a large part of the nucleotide sequence of the monkeypox virus, which has been downloaded from the National Center for Biotechnology Information in the United States. Please note that no additional or specialized knowledge of biology or bioinformatics is required for this assignment. (Actually, the technical specifics of bioinformatics have been adapted and simplified for the purposes of this computer science assignment, so if you are a biologist, please do not apply preexisting knowledge to solve the problem. Furthermore, you should not attempt to search up the genome on genomic databases to \"guess\" the actual sequence, since we are more interested in your coding methodology rather than your attempts at reproducing a known sequence.)\n",
    "\n",
    "This is an introductory computer science assignment and not a bioinformatics assignment; we are simply using bioinformatics as a use case to illustrate the applicability of local search to the natural sciences. Therefore, no knowledge of bioinformatics is assumed or required. In the paragraphs that follow, I will give a short crash course which will cover all the domain knowledge you will need to know in order to tackle this problem.  \n",
    "\n",
    "For technical reasons, when we analyze the nucleotide sequence (genome) of a virus, we usually cannot “read” it in one fell swoop. We have to read the genome in parts, because the genome is usually too long for the machine to read in a single sitting. To simplify things, a “read” is a single view of part of the genome; think of it as a SUBSTRING, a partial view of the whole genome. After we have generated multiple reads of a genome, we then have to “stitch”, or combine, the different reads of the genome together. This process of stitching up reads of a genome into the final sequence is known as genome assembly. However, the different reads of the genome cannot just be concatenated like usual string concatenation. It’s not a situation where you have one read, “Hello”, and another read, “World”, and all you need to do is concatenate both strings together to make “Hello World”. Among other reasons, there are two major reasons why you can’t do so:\n",
    "\n",
    "1. You do not know which read came first. The reads are not ordered. How do you know “Hello” came after “World”? The answer is that you don’t. Imagine how complicated this situation might be if you had more than two reads. (This is indeed our situation, where we have $n$ reads, and $n>>2$.)\n",
    "\n",
    "2. One read may contain a substring contained in another read. Specifically, without loss of generality, part of the ending $x$ characters of a read (i.e., suffix) might also be found in the starting $x$ positions (i.e., prefix) of another read.\n",
    "\n",
    "- A computer scientist usually creates opportunities from problems. While this may be a “problem” in that you just can’t concatenate two strings blindly, the fact that strings contain shared “substrings” is actually a very helpful clue that you can use to “join” strings together. \n",
    "\n",
    "- Note that the choice of the value of $x$ could be a hyperparameter decided by the computer scientist.\n",
    "\n",
    "## Your tasks\n",
    "\n",
    "In this part of the assignment, you will work with (simulated) reads that I have generated from the nucleotide sequence of the monkeypox virus. In reality, bioinformatics is far more complicated, but here we will work with a simplified situation. Your task is to examine the reads that I have provided for you, and from there “infer” the nucleotide sequence that might have produced those reads. \n",
    "\n",
    "The reads are provided in the csv file `data.csv` which simply provides a list of unique strings. Note that you should NOT assume any particular ordering of the strings in this dataframe. In fact, the strings have already been shuffled randomly. \n",
    "\n",
    "NOTE: You are not allowed to use `pandas` or any other libraries apart from the Python STL to load the csv file.\n",
    "\n",
    "### Task A (3 marks): \n",
    "\n",
    "Create a directed graph. The nodes in the graph are the strings in the list of reads. An edge should be drawn FROM read A TO read B if and only if a suffix (of length $x$) of read A is also a prefix (obviously, also of length $x$) of read B. For the purposes of the assignment, limit the value of $x$ to between 5 and 30, both inclusive. That is, to be clear, $5\\leq x\\leq 30$. The weight of an edge between read A and read B should be the NEGATED value of $x$, i.e. $-x$. \n",
    "\n",
    "In your Jupyter notebook, please report the number of edges in your graph. Provide a barplot or histogram which shows the number of edges with different weights or weight categories. In this task, you are free to use plotting libraries such as `matplotlib` or `seaborn` to plot this graph.\n",
    "\n",
    "As an example, if read A is \"TACTAGT\" and read B is \"TAGTCCCCT\", then an edge is drawn FROM read A TO read B (i.e., $A \\rightarrow B$) with weight of $-4$. This is because the 4-suffix \"TAGT\" is also the 4-prefix of read B; in other words, the last 4 characters of read A (a substring of length 4) overlap with the first 4 characters of read B (a substring of length 4).\n",
    "\n",
    "### Task B (7 marks): \n",
    "\n",
    "From Task A, you now have a graph which shows connections between reads based on how they overlap, in theory you could draw a path through the graph and thereby derive the full sequence (genome).\n",
    "\n",
    "Task B asks you to use local search method(s) to determine a path through this directed graph of strings. \n",
    "\n",
    "- You are expected to use simulated annealing and tune the relevant configuration settings and hyperparameters. The minimum requirement is to implement simulated annealing.\n",
    "\n",
    "- Explain tha rationale behind the choice of scheduling strategy and parameters.\n",
    "\n",
    "- However, you may also explore other search methods in addition to simulated annealing. Marks will be awarded for effort.\n",
    "\n",
    "Note the following constraints:\n",
    "\n",
    "1. The path has to go through each and every vertex exactly once. For computer scientists, this constraint is reminiscent of the \"Traveling Salesman's Problem\", except that unlike TSP, we should not need to go back to the starting vertex again. \n",
    "\n",
    "2. For the purposes of neighbor generation / action selection at each node, bear in mind that a path through the graph which minimizes the total number of nucleotides in the assembled sequence is the preferred path. To state that another way, the assembled sequence should be derived from a path that goes through EACH and EVERY vertex exactly once, however we want this assembled sequence to be AS SHORT AS POSSIBLE.\n",
    "\n",
    "3. You are not given the starting (source/origin) or ending (destination) vertex.\n",
    "\n",
    "4. For avoidance of ambiguity, no cycles are allowed. You must not visit a vertex more than once.\n",
    "\n",
    "5. You are not allowed to use any libraries apart from the Python Standard Library.\n",
    "No import statements which import libraries outside of the Python STL should be found within your answer for Task B.\n",
    "\n",
    "Please remember to report the assembled sequence that you obtain. Although it would be great if you can come up with a good sequence, please feel reassured that we are more interested in your APPROACH to the problem, and so you can potentially get a reasonable score on this task even if your solution is \"wrong\". It is the process, rather than the result, which matters more."
   ]
  },
  {
   "cell_type": "code",
   "execution_count": 46,
   "metadata": {
    "id": "oBnbZpd2bt1N"
   },
   "outputs": [],
   "source": [
    "# Problem Class\n",
    "class Problem:\n",
    "    \"\"\"The abstract class for a formal problem. A new domain subclasses this,\n",
    "    overriding `actions` and `results`, and perhaps other methods.\n",
    "    The default heuristic is 0 and the default action cost is 1 for all states.\n",
    "    When you create an instance of a subclass, specify `initial`, and `goal` states \n",
    "    (or give an `is_goal` method) and perhaps other keyword args for the subclass.\"\"\"\n",
    "\n",
    "    def __init__(self, initial=None, goal=None, **kwds): \n",
    "        self.__dict__.update(initial=initial, goal=goal, **kwds) \n",
    "        \n",
    "    def actions(self, state):        raise NotImplementedError\n",
    "    def result(self, state, action): raise NotImplementedError\n",
    "    def is_goal(self, state):        return state == self.goal\n",
    "    def action_cost(self, s, a, s1): return 1\n",
    "    def h(self, node):               return 0\n",
    "    \n",
    "    def __str__(self):\n",
    "        return '{}({!r}, {!r})'.format(\n",
    "            type(self).__name__, self.initial, self.goal)"
   ]
  },
  {
   "cell_type": "code",
   "execution_count": 47,
   "metadata": {},
   "outputs": [],
   "source": [
    "# Use the following Node class to generate search tree\n",
    "import math\n",
    "class Node:\n",
    "    \"A Node in a search tree.\"\n",
    "    def __init__(self, state, parent=None, action=None, path_cost=0, depth=0):\n",
    "        self.__dict__.update(state=state, parent=parent, action=action, path_cost=path_cost, depth=depth)\n",
    "        if self.parent:\n",
    "            self.depth = self.parent.depth + 1\n",
    "\n",
    "    def __repr__(self): return '<{}>'.format(self.state)\n",
    "    def __len__(self): return self.depth\n",
    "    def __lt__(self, other): return self.path_cost < other.path_cost \n",
    "\n",
    "    # self defined functions\n",
    "    def get_state(self): return self.state\n",
    "    def get_parent(self): return self.parent\n",
    "    def set_parent(self, node): \n",
    "        self.parent = node\n",
    "        self.depth = self.parent.depth + 1"
   ]
  },
  {
   "cell_type": "code",
   "execution_count": 55,
   "metadata": {
    "id": "B2-y3Nt9ccxj"
   },
   "outputs": [],
   "source": [
    "# Code to generate neighbours, value of states, etc.\n",
    "import random\n",
    "class TSP(Problem):\n",
    "    #Implement TSP class here\n",
    "\n",
    "    def probability(self, p):\n",
    "        \"\"\"Return true with probability p.\"\"\"\n",
    "        return p > random.uniform(0.0, 1.0)\n",
    "\n",
    "    def exp_schedule(t = 0, k = 1000,lam = 0.03, limit = 10000):\n",
    "        '''One possible temperature schedule method'''\n",
    "        return lambda t: (k * math.exp(-lam * t) if t < limit else 0)\n",
    "    \n",
    "    def total_value(self, edges, sequences):\n",
    "        '''Total value of the path'''\n",
    "        value = 0\n",
    "        for i in range(len(sequences) - 1):\n",
    "            value += edges[sequences[i]][sequences[i+1]]\n",
    "        return value\n",
    "    \n",
    "    def update_value(self, current_value, edges, sequences, swap1, swap2):\n",
    "        if 0 < swap1 < len(sequences) - 1 and 0 < swap2 < len(sequences) - 1:\n",
    "            return current_value - edges[sequences[swap1 - 1]][sequences[swap1]] - edges[sequences[swap1]][sequences[swap1 + 1]] \\\n",
    "            - edges[sequences[swap2 - 1]][sequences[swap2]] - edges[sequences[swap2]][sequences[swap2 + 1]] \\\n",
    "            + edges[sequences[swap1 - 1]][sequences[swap2]] + edges[sequences[swap2]][sequences[swap1 + 1]] \\\n",
    "            + edges[sequences[swap2 - 1]][sequences[swap1]] + edges[sequences[swap1]][sequences[swap2 + 1]]\n",
    "        elif swap1 == 0 and 0 < swap2 < len(sequences) - 1:\n",
    "            return current_value - edges[sequences[swap1]][sequences[swap1 + 1]] \\\n",
    "            - edges[sequences[swap2 - 1]][sequences[swap2]] - edges[sequences[swap2]][sequences[swap2 + 1]] \\\n",
    "            + edges[sequences[swap2]][sequences[swap1 + 1]] \\\n",
    "            + edges[sequences[swap2 - 1]][sequences[swap1]] + edges[sequences[swap1]][sequences[swap2 + 1]]\n",
    "        elif 0 < swap1 < len(sequences) and swap2 == len(sequences) - 1:\n",
    "            return current_value - edges[sequences[swap1 - 1]][sequences[swap1]] - edges[sequences[swap1]][sequences[swap1 + 1]] \\\n",
    "            - edges[sequences[swap2 - 1]][sequences[swap2]] \\\n",
    "            + edges[sequences[swap1 - 1]][sequences[swap2]] + edges[sequences[swap2]][sequences[swap1 + 1]] \\\n",
    "            + edges[sequences[swap2 - 1]][sequences[swap1]]\n",
    "        elif swap1 == 0 and swap2 == len(sequences) - 1:\n",
    "            return current_value - edges[sequences[swap1]][sequences[swap1 + 1]] \\\n",
    "            - edges[sequences[swap2 - 1]][sequences[swap2]] \\\n",
    "            + edges[sequences[swap2]][sequences[swap1 + 1]] \\\n",
    "            + edges[sequences[swap2 - 1]][sequences[swap1]]\n",
    "        \n",
    "    def simulated_annealing(self, edges, sequences=[], schedule = exp_schedule()):\n",
    "        current = sequences[:]\n",
    "        t = 0\n",
    "        current_value = self.total_value(edges,current)\n",
    "        count = 0\n",
    "        \n",
    "        while True:\n",
    "            T = schedule(t)\n",
    "            if T == 0: \n",
    "                #print(\"Times of change path\", count)\n",
    "                print(\"Total costs of final solution:\", current_value)\n",
    "                return current\n",
    "            t += 1\n",
    "            for k in range(100):\n",
    "                swap1 = random.randint(0,len(sequences)-1)\n",
    "                while True:\n",
    "                    swap2 = random.randint(0,len(sequences)-1)\n",
    "                    if swap2 != swap1: break\n",
    "                if swap1 > swap2:\n",
    "                    swap1, swap2 = swap2, swap1\n",
    "                next = current[:]\n",
    "                next[swap1], next[swap2] = next[swap2], next[swap1]\n",
    "                next_value = self.update_value(current_value, edges, current, swap1, swap2)\n",
    "                delta_E = next_value - current_value\n",
    "                if delta_E < 0 or self.probability(math.exp(-delta_E / T)):\n",
    "                    count += 1\n",
    "                    current = next\n",
    "                    current_value = next_value\n"
   ]
  },
  {
   "cell_type": "markdown",
   "metadata": {},
   "source": [
    "## Task A: Graph Building\n",
    "We constructed the following graph using the maximum overlap values of the suffix and prefix between two sequences as the weights of the edges, removing the limitation that the overlap value should $5\\leq x\\leq 30$. For those which do not share any sequence, we regard the weight as 0."
   ]
  },
  {
   "cell_type": "code",
   "execution_count": 49,
   "metadata": {},
   "outputs": [],
   "source": [
    "import csv\n",
    "import matplotlib.pyplot as plt\n",
    "# read data\n",
    "data_file_name = 'data.csv'\n",
    "file_data = []\n",
    "with open(data_file_name) as csv_file:\n",
    "    csv_reader = csv.reader(csv_file)\n",
    "    for row in csv_reader:\n",
    "        file_data.append(row[2])\n",
    "\n",
    "# remove the first line\n",
    "file_data.pop(0)\n",
    "size = len(file_data)\n",
    "\n",
    "\n",
    "edges = [[0 for _ in range(size)] for _ in range(size)]\n",
    "\n",
    "# build graph\n",
    "node_list = []\n",
    "for index in range(size):\n",
    "    # build node\n",
    "    state = index\n",
    "    node = Node(state)\n",
    "    # build edge\n",
    "    for old_node in node_list:  \n",
    "        old_state = old_node.get_state()\n",
    "\n",
    "        cur_str = file_data[state]\n",
    "        old_str = file_data[old_state]\n",
    "\n",
    "        rg = min(len(cur_str),len(old_str))\n",
    "\n",
    "        for i in range(rg,-1,-1):\n",
    "            # state -> old_state\n",
    "            if edges[state][old_state] == 0 and cur_str[-i:] == old_str[:i]:\n",
    "                edges[state][old_state] = -i\n",
    "            # old_state -> state\n",
    "            if edges[old_state][state] == 0 and old_str[-i:] == cur_str[:i]:\n",
    "                edges[old_state][state] = -i\n",
    "            if edges[state][old_state]!=0 and edges[old_state][state]!=0:\n",
    "                break\n",
    "    node_list.append(node)"
   ]
  },
  {
   "cell_type": "markdown",
   "metadata": {},
   "source": [
    "We calculate the number of edges of every weight, then use a dictionary to store the information. As we can see from the result below, most weights are 0, which means that the sequences do not have any overlap. It is worth noting that there is a single weight -62, while other weights are all within -30, actually the value of overlap between 5 and 30 can be found as well, so personally we regard it as a coincidence but we do not do anything about it because we have clarified that we complete the task removing the limit, just give our personal explanation of the data."
   ]
  },
  {
   "cell_type": "code",
   "execution_count": 50,
   "metadata": {},
   "outputs": [
    {
     "name": "stdout",
     "output_type": "stream",
     "text": [
      "The numebr of edges in different weights: {-62: 1, -30: 29, -29: 31, -28: 23, -27: 23, -26: 29, -25: 37, -24: 30, -23: 34, -22: 23, -21: 26, -20: 39, -19: 22, -18: 35, -17: 27, -16: 24, -15: 27, -14: 20, -13: 27, -12: 32, -11: 33, -10: 26, -9: 12, -8: 16, -7: 58, -6: 195, -5: 628, -4: 2161, -3: 7627, -2: 26579, -1: 89002, 0: 231925}\n"
     ]
    }
   ],
   "source": [
    "dict_weight = {0:0}\n",
    "for i in edges:\n",
    "    for j in i:\n",
    "        if j == False:\n",
    "            dict_weight[0] += 1\n",
    "        else:\n",
    "            if dict_weight.get(j):\n",
    "                dict_weight[j] += 1\n",
    "            else:\n",
    "                dict_weight[j] = 1\n",
    "keys = sorted(dict_weight)\n",
    "new_dict = {}\n",
    "for key in keys:\n",
    "    new_dict[key] = dict_weight[key]\n",
    "print(\"The numebr of edges in different weights:\", new_dict)"
   ]
  },
  {
   "cell_type": "markdown",
   "metadata": {},
   "source": [
    "To make it clearer, we plot the corresponding frequency distribution histogram. Because the magnitude of the counts differs largely, we use the  $\\log$ $_2$ value on the y axis and mark the real value on the top of the bars."
   ]
  },
  {
   "cell_type": "code",
   "execution_count": 63,
   "metadata": {},
   "outputs": [
    {
     "data": {
      "image/png": "[encoded data removed]",
      "text/plain": [
       "<Figure size 720x576 with 1 Axes>"
      ]
     },
     "metadata": {
      "needs_background": "light"
     },
     "output_type": "display_data"
    }
   ],
   "source": [
    "import math\n",
    "barWidth = 0.3\n",
    "\n",
    "plt.figure(figsize = (10, 8))\n",
    "# set height of bar\n",
    "# becuase some of the weight has too many edges, we use log2\n",
    "y = [math.log2(n) for n in new_dict.values()]\n",
    "y_name = new_dict.values()\n",
    "x_name = new_dict.keys()\n",
    "\n",
    "# Set position of bar on X axis\n",
    "bars = [n for n in range(len(y))]\n",
    "\n",
    "# Make the plot\n",
    "plt.bar(bars, y, color ='turquoise', width = barWidth)\n",
    "\n",
    "# Adding Xticks\n",
    "plt.xticks([r for r in bars], x_name)\n",
    "plt.ylabel('log2(number)', fontweight ='bold', fontsize = 12)\n",
    "\n",
    "# Add text\n",
    "for(a, b, c) in zip(bars, y, y_name):\n",
    "    plt.text(a, b, '%.0f'%c, ha = 'center', va = 'bottom', fontsize = 11)\n",
    "\n",
    "#plt.legend()\n",
    "plt.show()"
   ]
  },
  {
   "cell_type": "markdown",
   "metadata": {},
   "source": [
    "## Task B: Rationale of Our Simulated Annealing Algorithm\n",
    "Then we are going to use simulated annealing to find the relatively local solution.\n",
    " \n",
    "Initially, we assemble sequences randomly, just follow the shuffled order, and use that state as our initial input. Then we need to schedule the temperature. We want the accepted probability to be high even if the total path cost of the next state is higher than the current, so that it has more chance to adjust in the beginning. As the number of iterations increases, we are more likely to find a good solution. Since the solution is good enough, then we may conservative to accept higher cost states, so the probability goes lower and lower. In addition, the more attempts we make, the more chances we have to find an ideal solution, so we should make sure that the iteration time is enough.\n",
    " \n",
    "To satisfy our requirement stated above, we set 1000 degree as the initial temperature, using formula $ T = k *{e ^ {(-\\lambda * t)}} $ to guarantee that T decreases with iterations t increases. This setting has a huge acceptance probability(over 98% assuming $\\Delta E = -15$) at beginning, and after times of iterations, it converges to 0. To control the iteration time, we set the iteration limit to 10000, and for each calculated temperature, we make 100 attempts, which is enough to find a relatively good solution. To be clear, we have tried to set higher attempt times but the effects do not have a significant change while the programme costs much more time. The total cost of the path is around -8300.\n",
    " \n",
    "In addition, we get the next state by randomly picking two sequences and exchanging their position. $\\Delta E = Value_{(next)} - Value_{(current)}$, where Value means the total cost of all edges going through in the corresponding state. Because only two sequences have changed, we do not need to calculate the total cost from begining, just calculate those changed sequences is enough where we write in the update_value function. If the next state costs less than the current state, then we accept the change, else, we accept the next state only with probability $e^{\\Delta E/T}$.\n",
    "\n",
    "For a detailed implementation of the method, see `class TSP`."
   ]
  },
  {
   "cell_type": "code",
   "execution_count": 60,
   "metadata": {},
   "outputs": [
    {
     "name": "stdout",
     "output_type": "stream",
     "text": [
      "Total costs of final solution: -8530\n",
      "Costs in detail:\n",
      " [-11, 0, -2, -13, -22, -2, -20, -1, -20, -26, -22, -1, -13, 0, -29, -10, 0, -17, 0, -30, -17, -4, -3, 0, -27, -1, -26, -2, -24, 0, -25, -30, 0, -23, -20, -26, -1, -15, -29, -1, -18, 0, -10, -28, -8, 0, -22, 0, -26, -30, -1, -29, -29, -3, -19, -18, -2, -4, -12, -6, -6, -22, -11, -2, -17, -29, -20, -1, -25, 0, -23, -25, -29, -1, -24, 0, -15, -20, -1, -21, -2, -24, -62, -20, 0, -28, -11, -16, 0, -20, -22, 0, -25, -24, 0, -21, 0, -30, -30, -29, 0, -26, 0, -30, 0, -24, -26, -4, -25, -15, -18, -1, -20, -17, -2, -12, -16, 0, -21, -1, -18, 0, -24, 0, -22, -17, 0, -18, -5, -27, -4, -26, -1, -23, -30, 0, -10, -30, -15, 0, -15, -20, 0, -24, -2, -14, 0, -20, -1, -28, -2, -30, -19, -1, -17, -28, -28, -19, -1, -27, -23, -23, -1, -23, -1, -11, -20, -23, 0, -27, -23, -2, -20, -26, -12, -3, -17, -29, 0, -29, -20, 0, -26, -28, -1, -25, -28, -23, 0, -24, 0, -11, -23, -17, -18, -2, -12, -10, -17, -11, 0, -12, -15, -30, -23, -25, -1, -26, -15, -24, -21, -1, -21, 0, -4, -26, -29, -25, -2, -26, -1, -17, 0, -29, 0, -28, -27, 0, -16, -2, -18, -1, -11, -3, -20, -10, -23, -3, -26, -10, 0, -30, -22, -2, -23, -14, 0, -12, -30, -14, -1, -27, -1, -25, -1, -15, 0, -3, -24, -3, -16, -20, -28, -28, 0, -29, 0, -16, -3, 0, -4, 0, -28, -14, 0, -2, -21, 0, -25, 0, -24, -26, -25, -17, -1, -14, -29, 0, -15, 0, -20, -25, -26, 0, -23, -30, -29, -24, -13, -26, 0, -30, 0, -11, -21, 0, -24, 0, -19, -6, -30, -20, -21, 0, -29, -27, -22, -5, -1, -15, -30, -27, -14, -25, -20, -1, -25, -22, -26, -1, -23, -30, -21, -26, 0, -24, -26, 0, -25, -27, 0, -20, -2, -29, -1, -25, -1, -3, -25, -30, 0, -30, -17, -13, -1, -27, -15, 0, -24, -25, -21, -18, -17, -11, 0, -25, -24, -1, -21, -25, -27, -23, -1, 0, -11, -22, 0, -25, 0, -12, -28, 0, -18, -2, -24, 0, -7, -20, -25, -3, -24, -1, -19, -1, -20, -28, -21, 0, -25, -2, -27, 0, -14, -1, -1, -22, -23, 0, -13, 0, -26, -19, -1, -23, -12, -10, -1, -25, 0, -14, -24, 0, -13, -29, -29, -1, -21, -26, 0, -10, -26, -3, 0, -24, -20, -1, -24, -13, -16, -4, -2, -27, -1, -30, -2, -29, 0, -17, -12, 0, -21, -29, -30, -1, 0, -27, -5, -2, -22, -23, -1, -25, -21, -30, -28, -25, -16, 0, -13, -3, -20, -12, -2, -25, 0, -19, -27, -1, -28, -23, 0, -22, -1, -3, -18, -18, -29, -2, -2, -27, 0, -21, -3, -3, -20, -27, -30, -2, -19, 0, -21, -18, -20, -1, -23, 0, -28, -27, 0, -28, -4, -26, 0, -11, -29, -3, 0, -21, -25, -18, 0, -18, -10, -20, -4, -28, -29, 0, -13, -30, -16, 0, -19, -9, -29, 0, -22, -29, 0, -25, 0, -25, -26, 0, -28, -19, 0, -30, -1, -3, -23, -18, -1, -12, 0, -27, -1, -23, -27, -13, -13, 0, -21, -15, 0, -29, 0, -14, -18, -30, 0, -24, -30, -22, -30, -4, -30, -17, -24, -1, -25, 0, -16, -19, -1, -28, -1, -2, -18, 0, -28, -1, -27, 0, -27, -24, -22, -18]\n",
      "Result path:\n",
      " [213, 458, 189, 278, 475, 446, 452, 235, 420, 74, 15, 267, 393, 434, 60, 79, 303, 173, 500, 238, 597, 82, 137, 146, 473, 372, 505, 321, 453, 351, 198, 542, 155, 293, 506, 174, 346, 536, 376, 509, 399, 567, 501, 106, 324, 254, 80, 22, 552, 329, 416, 411, 565, 516, 490, 188, 507, 12, 288, 145, 478, 25, 166, 257, 562, 182, 9, 43, 447, 130, 547, 594, 595, 45, 341, 556, 466, 64, 546, 590, 389, 169, 457, 27, 523, 368, 192, 333, 83, 377, 435, 364, 417, 72, 140, 544, 467, 454, 543, 353, 20, 208, 41, 121, 170, 382, 564, 171, 165, 125, 480, 59, 340, 200, 124, 374, 49, 459, 97, 259, 10, 24, 3, 355, 549, 366, 431, 77, 272, 196, 219, 511, 401, 185, 178, 275, 34, 207, 253, 197, 425, 193, 521, 444, 535, 228, 298, 548, 422, 93, 461, 51, 135, 328, 586, 277, 195, 517, 589, 14, 233, 227, 90, 339, 322, 317, 247, 559, 474, 243, 18, 352, 11, 67, 555, 132, 113, 78, 472, 348, 360, 37, 437, 533, 438, 206, 101, 414, 163, 570, 211, 492, 494, 48, 245, 221, 573, 528, 578, 326, 35, 577, 249, 299, 335, 69, 442, 172, 526, 487, 229, 554, 588, 510, 347, 70, 381, 591, 332, 534, 283, 217, 61, 179, 263, 551, 537, 365, 0, 224, 102, 304, 529, 98, 387, 518, 404, 139, 468, 226, 31, 191, 440, 584, 504, 131, 406, 485, 73, 244, 202, 100, 157, 96, 481, 308, 186, 6, 392, 156, 29, 400, 540, 276, 495, 295, 479, 489, 149, 384, 301, 71, 261, 312, 307, 576, 572, 439, 470, 279, 426, 84, 568, 396, 356, 415, 319, 184, 383, 566, 181, 305, 477, 242, 371, 273, 26, 218, 370, 379, 430, 280, 75, 532, 592, 585, 410, 413, 103, 268, 81, 361, 465, 87, 445, 222, 294, 373, 503, 402, 119, 575, 325, 7, 231, 104, 168, 114, 154, 240, 39, 108, 30, 369, 1, 464, 527, 290, 161, 230, 390, 23, 4, 412, 362, 284, 148, 524, 421, 58, 42, 38, 498, 215, 553, 17, 375, 234, 50, 36, 306, 32, 582, 274, 499, 209, 514, 315, 512, 330, 216, 92, 190, 44, 252, 314, 260, 126, 327, 86, 513, 256, 105, 443, 359, 128, 581, 111, 491, 8, 91, 313, 428, 133, 394, 309, 56, 367, 469, 398, 531, 143, 65, 183, 407, 120, 441, 232, 153, 136, 265, 450, 395, 455, 297, 598, 331, 118, 336, 318, 54, 502, 94, 116, 460, 488, 95, 456, 323, 337, 571, 550, 175, 349, 13, 248, 21, 19, 250, 134, 496, 112, 310, 210, 251, 579, 266, 593, 158, 212, 107, 147, 53, 63, 122, 271, 385, 214, 2, 223, 33, 427, 258, 180, 89, 85, 432, 563, 302, 350, 539, 538, 164, 225, 246, 142, 378, 449, 311, 264, 508, 419, 144, 358, 141, 545, 270, 574, 386, 530, 176, 497, 287, 541, 342, 66, 409, 483, 127, 236, 596, 68, 403, 471, 129, 380, 201, 281, 391, 237, 57, 451, 405, 109, 151, 343, 47, 522, 316, 289, 286, 194, 152, 580, 357, 115, 205, 486, 334, 484, 199, 354, 557, 388, 203, 423, 159, 519, 462, 345, 482, 448, 561, 292, 363, 220, 520, 296, 285, 40, 150, 569, 493, 476, 55, 300, 344, 110, 262, 160, 408, 123, 433, 269, 525, 583, 88, 587, 560, 16, 117, 99, 463, 62, 28, 177, 282, 239, 515, 418, 241, 5, 162, 558, 204, 320, 138, 397, 255, 291, 429, 46, 52, 338, 436, 424, 167, 76, 187]\n"
     ]
    }
   ],
   "source": [
    "# intialize sequence\n",
    "sequences = [i for i in range(len(edges))]\n",
    "    \n",
    "tsp = TSP()\n",
    "res = tsp.simulated_annealing(edges,sequences)\n",
    "valid_edge = [{} for i in range(len(edges))]\n",
    "for i,edge in enumerate(edges):\n",
    "    for j,cost in enumerate(edge):\n",
    "        if cost != 0:\n",
    "            valid_edge[i][j] = cost\n",
    "\n",
    "#calculate the costs of the final solution\n",
    "costs = []\n",
    "for i in range(len(res) - 1):\n",
    "    if res[i + 1] in valid_edge[res[i]]:\n",
    "        cost = valid_edge[res[i]][res[i+1]]\n",
    "    else:\n",
    "        cost = 0\n",
    "    costs.append(cost)\n",
    "\n",
    "print(\"Costs in detail:\\n\", costs)\n",
    "print(\"Result path:\\n\", res)\n"
   ]
  },
  {
   "cell_type": "code",
   "execution_count": 62,
   "metadata": {},
   "outputs": [
    {
     "data": {
      "image/png": "[encoded data removed]",
      "text/plain": [
       "<Figure size 432x288 with 1 Axes>"
      ]
     },
     "metadata": {
      "needs_background": "light"
     },
     "output_type": "display_data"
    }
   ],
   "source": [
    "#plot the frequency distribution histogram of each edges' weight of the final resolution\n",
    "rng = min(set(costs))\n",
    "stsCosts = [0 for _ in range(-rng+1)]\n",
    "    \n",
    "for item in costs:\n",
    "    stsCosts[-item] += 1\n",
    "    \n",
    "plt.bar(range(len(stsCosts)), stsCosts)\n",
    "plt.ylabel('Counts', fontweight ='bold', fontsize = 12)\n",
    "plt.show()"
   ]
  }
 ],
 "metadata": {
  "colab": {
   "collapsed_sections": [],
   "provenance": []
  },
  "kernelspec": {
   "display_name": "Python 3 (ipykernel)",
   "language": "python",
   "name": "python3"
  },
  "language_info": {
   "codemirror_mode": {
    "name": "ipython",
    "version": 3
   },
   "file_extension": ".py",
   "mimetype": "text/x-python",
   "name": "python",
   "nbconvert_exporter": "python",
   "pygments_lexer": "ipython3",
   "version": "3.9.7"
  },
  "vscode": {
   "interpreter": {
    "hash": "7b6e595d6faddd5c9bdf80e1139f74471d86072778482aefda35107862f78b9a"
   }
  }
 },
 "nbformat": 4,
 "nbformat_minor": 1
}
